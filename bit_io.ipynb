{
 "cells": [
  {
   "cell_type": "markdown",
   "id": "17138826",
   "metadata": {},
   "source": [
    "# Input and output of single bits"
   ]
  },
  {
   "cell_type": "code",
   "execution_count": 37,
   "id": "c6b24fe0",
   "metadata": {},
   "outputs": [],
   "source": [
    "import struct\n",
    "\n",
    "class Bit_IO():\n",
    "    \n",
    "    def __init__(self):\n",
    "        self.bit_to_read = 256\n",
    "        self.bit_to_write = 1\n",
    "        self.get_counter = 0\n",
    "        self.output_byte = 0\n",
    "        \n",
    "    def read(self, file):\n",
    "        # Notice: I return ~0 or 0!\n",
    "        if self.bit_to_read == 256:\n",
    "            self.input_byte = struct.unpack(\"B\", file.read(struct.calcsize(\"B\")))[0]\n",
    "            self.bit_to_read =1\n",
    "        bit = self.input_byte & self.bit_to_read\n",
    "        self.bit_to_read <<= 1\n",
    "        return bit\n",
    "    \n",
    "    def write(self, bit, file):\n",
    "        if self.bit_to_write == 256:\n",
    "            file.write(struct.pack(\"B\", self.output_byte))\n",
    "            self.bit_to_write = 1\n",
    "            self.output_byte = 0\n",
    "        if bit:\n",
    "            self.output_byte |= self.bit_to_write\n",
    "        self.bit_to_write <<= 1\n",
    "            \n",
    "    def flush(self, file):\n",
    "        if self.bit_to_write != 0:\n",
    "            file.write(struct.pack(\"B\", self.output_byte))"
   ]
  },
  {
   "cell_type": "code",
   "execution_count": 38,
   "id": "ee391852",
   "metadata": {},
   "outputs": [
    {
     "name": "stdout",
     "output_type": "stream",
     "text": [
      "00000000  0d                                                |.|\n",
      "00000001\n",
      "1\n",
      "0\n",
      "4\n",
      "8\n"
     ]
    }
   ],
   "source": [
    "if __name__ == \"__main__\":\n",
    "    f = open(\"/tmp/bitio\", \"wb\")\n",
    "    bitio = Bit_IO()\n",
    "    bitio.write(1, f)\n",
    "    bitio.write(0, f)\n",
    "    bitio.write(1, f)\n",
    "    bitio.write(1, f)\n",
    "    bitio.flush(f)\n",
    "    f.close() \n",
    "    !hexdump -C /tmp/bitio\n",
    "    f = open(\"/tmp/bitio\", \"rb\")\n",
    "    print(bitio.read(f))\n",
    "    print(bitio.read(f))\n",
    "    print(bitio.read(f))\n",
    "    print(bitio.read(f))"
   ]
  }
 ],
 "metadata": {
  "kernelspec": {
   "display_name": "Python 3 (ipykernel)",
   "language": "python",
   "name": "python3"
  },
  "language_info": {
   "codemirror_mode": {
    "name": "ipython",
    "version": 3
   },
   "file_extension": ".py",
   "mimetype": "text/x-python",
   "name": "python",
   "nbconvert_exporter": "python",
   "pygments_lexer": "ipython3",
   "version": "3.10.5"
  }
 },
 "nbformat": 4,
 "nbformat_minor": 5
}
