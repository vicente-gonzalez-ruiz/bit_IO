{
 "cells": [
  {
   "cell_type": "markdown",
   "id": "17138826",
   "metadata": {},
   "source": [
    "# bit_IO: Input and output of single bits"
   ]
  },
  {
   "cell_type": "code",
   "execution_count": null,
   "id": "2b93459a-afc6-4ed5-8764-aa52dddc06ee",
   "metadata": {},
   "outputs": [],
   "source": [
    "from bit_IO import bit_IO"
   ]
  },
  {
   "cell_type": "code",
   "execution_count": null,
   "id": "ee391852",
   "metadata": {},
   "outputs": [],
   "source": [
    "f = open(\"/tmp/bitio\", \"wb\")\n",
    "bitio = bit_IO.Bit_IO()\n",
    "bitio.write(1, f)\n",
    "bitio.write(0, f)\n",
    "bitio.write(2, f) # Same that bitio.write(1, f)\n",
    "bitio.write(1, f)\n",
    "\n",
    "bitio.write(1, f)\n",
    "bitio.write(0, f)\n",
    "bitio.write(1, f)\n",
    "bitio.write(1, f)\n",
    "\n",
    "bitio.write(1, f)\n",
    "bitio.flush(f)\n",
    "f.close() \n",
    "!hexdump -C /tmp/bitio\n",
    "f = open(\"/tmp/bitio\", \"rb\")\n",
    "print(bitio.read(f))\n",
    "print(bitio.read(f))\n",
    "print(bitio.read(f))\n",
    "print(bitio.read(f))\n",
    "\n",
    "print(bitio.read(f))\n",
    "print(bitio.read(f))\n",
    "print(bitio.read(f))\n",
    "print(bitio.read(f))\n",
    "\n",
    "print(bitio.read(f))"
   ]
  }
 ],
 "metadata": {
  "kernelspec": {
   "display_name": "Python 3 (ipykernel)",
   "language": "python",
   "name": "python3"
  },
  "language_info": {
   "codemirror_mode": {
    "name": "ipython",
    "version": 3
   },
   "file_extension": ".py",
   "mimetype": "text/x-python",
   "name": "python",
   "nbconvert_exporter": "python",
   "pygments_lexer": "ipython3",
   "version": "3.12.2"
  }
 },
 "nbformat": 4,
 "nbformat_minor": 5
}
